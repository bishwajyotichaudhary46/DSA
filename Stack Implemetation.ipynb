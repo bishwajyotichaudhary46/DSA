{
 "cells": [
  {
   "cell_type": "code",
   "execution_count": 1,
   "id": "33202a89",
   "metadata": {},
   "outputs": [
    {
     "name": "stdout",
     "output_type": "stream",
     "text": [
      "Select the operation 1. push 2.pop 3.quit\n",
      "1\n",
      "Enter element: 2\n",
      "['2']\n",
      "Select the operation 1. push 2.pop 3.quit\n",
      "1\n",
      "Enter element: 3\n",
      "['2', '3']\n",
      "Select the operation 1. push 2.pop 3.quit\n",
      "1\n",
      "Enter element: 3\n",
      "['2', '3', '3']\n",
      "Select the operation 1. push 2.pop 3.quit\n",
      "2\n",
      "removed element: 3\n",
      "['2', '3']\n",
      "Select the operation 1. push 2.pop 3.quit\n",
      "3\n"
     ]
    }
   ],
   "source": [
    "stack = []\n",
    "def push():\n",
    "    element = input(\"Enter element: \")\n",
    "    stack.append(element)\n",
    "    print(stack)\n",
    "    \n",
    "def pop():\n",
    "    if not stack:\n",
    "        print(\"Stack is empty\")\n",
    "    else:\n",
    "        e = stack.pop()\n",
    "        print(\"removed element:\", e)\n",
    "        print(stack)\n",
    "while True:\n",
    "    print(\"Select the operation 1. push 2.pop 3.quit\")\n",
    "    choice = int(input())\n",
    "    if choice == 1:\n",
    "        push()\n",
    "    elif choice == 2:\n",
    "        pop()\n",
    "    else:\n",
    "        break"
   ]
  },
  {
   "cell_type": "code",
   "execution_count": 3,
   "id": "e8c96f95",
   "metadata": {},
   "outputs": [
    {
     "data": {
      "text/plain": [
       "deque([])"
      ]
     },
     "execution_count": 3,
     "metadata": {},
     "output_type": "execute_result"
    }
   ],
   "source": [
    "import collections\n",
    "stack = collections.deque()\n",
    "stack"
   ]
  },
  {
   "cell_type": "code",
   "execution_count": 4,
   "id": "32f71aa5",
   "metadata": {},
   "outputs": [],
   "source": [
    "stack.append(10)"
   ]
  },
  {
   "cell_type": "code",
   "execution_count": 5,
   "id": "f932a82b",
   "metadata": {},
   "outputs": [],
   "source": [
    "stack.append(20)"
   ]
  },
  {
   "cell_type": "code",
   "execution_count": 6,
   "id": "d20d20c5",
   "metadata": {},
   "outputs": [
    {
     "data": {
      "text/plain": [
       "<queue.LifoQueue at 0x26d0a8af040>"
      ]
     },
     "execution_count": 6,
     "metadata": {},
     "output_type": "execute_result"
    }
   ],
   "source": [
    "import queue\n",
    "stack  = queue.LifoQueue(3)# for define size of empty\n",
    "stack"
   ]
  },
  {
   "cell_type": "code",
   "execution_count": 7,
   "id": "2850f17b",
   "metadata": {},
   "outputs": [],
   "source": [
    "stack.put(10)\n",
    "stack.put(20)"
   ]
  },
  {
   "cell_type": "code",
   "execution_count": 8,
   "id": "17059a4e",
   "metadata": {},
   "outputs": [
    {
     "data": {
      "text/plain": [
       "<queue.LifoQueue at 0x26d0a8af040>"
      ]
     },
     "execution_count": 8,
     "metadata": {},
     "output_type": "execute_result"
    }
   ],
   "source": [
    "stack"
   ]
  },
  {
   "cell_type": "code",
   "execution_count": 9,
   "id": "8e7b8cef",
   "metadata": {},
   "outputs": [
    {
     "data": {
      "text/plain": [
       "20"
      ]
     },
     "execution_count": 9,
     "metadata": {},
     "output_type": "execute_result"
    }
   ],
   "source": [
    "stack.get()"
   ]
  },
  {
   "cell_type": "code",
   "execution_count": 10,
   "id": "2c9fcab5",
   "metadata": {},
   "outputs": [
    {
     "name": "stdout",
     "output_type": "stream",
     "text": [
      "limit of stack: 3\n",
      "Select the operation 1. push 2.pop 3.quit\n",
      "1\n",
      "Enter element: 2\n",
      "['2']\n",
      "Select the operation 1. push 2.pop 3.quit\n",
      "1\n",
      "Enter element: 3\n",
      "['2', '3']\n",
      "Select the operation 1. push 2.pop 3.quit\n",
      "1\n",
      "Enter element: 3\n",
      "['2', '3', '3']\n",
      "Select the operation 1. push 2.pop 3.quit\n",
      "1\n",
      "stack is full\n",
      "Select the operation 1. push 2.pop 3.quit\n",
      "3\n"
     ]
    }
   ],
   "source": [
    "stack = []\n",
    "def push():\n",
    "    if len(stack) == n:\n",
    "        print(\"stack is full\")\n",
    "    else:\n",
    "        element = input(\"Enter element: \")\n",
    "        stack.append(element)\n",
    "        print(stack)\n",
    "    \n",
    "def pop():\n",
    "    if not stack:\n",
    "        print(\"Stack is empty\")\n",
    "    else:\n",
    "        e = stack.pop()\n",
    "        print(\"removed element:\", e)\n",
    "        print(stack)\n",
    "        \n",
    "n = int(input(\"limit of stack: \"))\n",
    "while True:\n",
    "    print(\"Select the operation 1. push 2.pop 3.quit\")\n",
    "    choice = int(input())\n",
    "    if choice == 1:\n",
    "        push()\n",
    "    elif choice == 2:\n",
    "        pop()\n",
    "    else:\n",
    "        break"
   ]
  },
  {
   "cell_type": "code",
   "execution_count": null,
   "id": "72f57d28",
   "metadata": {},
   "outputs": [],
   "source": []
  }
 ],
 "metadata": {
  "kernelspec": {
   "display_name": "Python 3 (ipykernel)",
   "language": "python",
   "name": "python3"
  },
  "language_info": {
   "codemirror_mode": {
    "name": "ipython",
    "version": 3
   },
   "file_extension": ".py",
   "mimetype": "text/x-python",
   "name": "python",
   "nbconvert_exporter": "python",
   "pygments_lexer": "ipython3",
   "version": "3.9.13"
  }
 },
 "nbformat": 4,
 "nbformat_minor": 5
}
