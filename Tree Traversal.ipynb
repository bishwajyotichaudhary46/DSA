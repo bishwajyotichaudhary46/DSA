{
 "cells": [
  {
   "cell_type": "code",
   "execution_count": 6,
   "id": "e4171e32",
   "metadata": {},
   "outputs": [
    {
     "name": "stdout",
     "output_type": "stream",
     "text": [
      "Inorder Traversal\n",
      "4  2  5  1  3  \n",
      "Pre-Order Traversal\n",
      "1  2  4  5  3  \n",
      "Post-Order Traversal\n",
      "4  5  2  3  1  "
     ]
    }
   ],
   "source": [
    "class Node:\n",
    "    def __init__(self, data):\n",
    "        self.data = data\n",
    "        self.right = None\n",
    "        self.left = None\n",
    "    \n",
    "    \n",
    "def inOrder(root):\n",
    "    if root:\n",
    "        inOrder(root.left)\n",
    "        print(str(root.data)+ \" \",end=\" \")\n",
    "        inOrder(root.right)\n",
    "        \n",
    "def preOrder(root):\n",
    "    if root:\n",
    "        print(str(root.data)+\" \", end = \" \")\n",
    "        preOrder(root.left)\n",
    "        preOrder(root.right)\n",
    "\n",
    "def postOrder(root):\n",
    "    if root:\n",
    "        postOrder(root.left)\n",
    "        postOrder(root.right)\n",
    "        print(str(root.data)+\" \", end = \" \")\n",
    "        \n",
    "root = Node(1)\n",
    "root.left = Node(2)\n",
    "root.right = Node(3)\n",
    "root.left.left = Node(4)\n",
    "root.left.right = Node(5)\n",
    "\n",
    "print(\"Inorder Traversal\")\n",
    "inOrder(root)\n",
    "print(\"\\nPre-Order Traversal\")\n",
    "preOrder(root)\n",
    "print(\"\\nPost-Order Traversal\")\n",
    "postOrder(root)"
   ]
  },
  {
   "cell_type": "code",
   "execution_count": null,
   "id": "353b85ae",
   "metadata": {},
   "outputs": [],
   "source": []
  }
 ],
 "metadata": {
  "kernelspec": {
   "display_name": "Python 3 (ipykernel)",
   "language": "python",
   "name": "python3"
  },
  "language_info": {
   "codemirror_mode": {
    "name": "ipython",
    "version": 3
   },
   "file_extension": ".py",
   "mimetype": "text/x-python",
   "name": "python",
   "nbconvert_exporter": "python",
   "pygments_lexer": "ipython3",
   "version": "3.9.13"
  }
 },
 "nbformat": 4,
 "nbformat_minor": 5
}
