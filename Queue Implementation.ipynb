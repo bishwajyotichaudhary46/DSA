{
 "cells": [
  {
   "cell_type": "code",
   "execution_count": null,
   "id": "266e905e",
   "metadata": {},
   "outputs": [
    {
     "name": "stdout",
     "output_type": "stream",
     "text": [
      "Enter the size of queue: 4\n",
      "Select the operation 1.add 2.remove 3.show 4.quit\n",
      "1\n",
      "Enter the element: 2\n",
      "2 is added to queue!\n",
      "Select the operation 1.add 2.remove 3.show 4.quit\n",
      "1\n",
      "Enter the element: 2\n",
      "2 is added to queue!\n",
      "Select the operation 1.add 2.remove 3.show 4.quit\n",
      "1\n",
      "Enter the element: 4\n",
      "4 is added to queue!\n",
      "Select the operation 1.add 2.remove 3.show 4.quit\n",
      "1\n",
      "Enter the element: 5\n",
      "5 is added to queue!\n",
      "Select the operation 1.add 2.remove 3.show 4.quit\n",
      "1\n",
      "Queue is full\n",
      "Select the operation 1.add 2.remove 3.show 4.quit\n",
      "2\n",
      "removed element: 2\n",
      "Select the operation 1.add 2.remove 3.show 4.quit\n"
     ]
    }
   ],
   "source": [
    "queue = []\n",
    "def enque():\n",
    "    if len(queue) == n:\n",
    "        print(\"Queue is full\")\n",
    "    else:\n",
    "        element = input(\"Enter the element: \")\n",
    "        queue.append(element)\n",
    "        print(element, \"is added to queue!\")\n",
    "def dequeue():\n",
    "    if not queue:\n",
    "        print(\"queue is empty\")\n",
    "    else:\n",
    "        e = queue.pop(0)\n",
    "        print(\"removed element:\", e)\n",
    "def display():\n",
    "    print(queue)\n",
    "\n",
    "n = int(input(\"Enter the size of queue: \"))\n",
    "while True:\n",
    "    print(\"Select the operation 1.add 2.remove 3.show 4.quit\")\n",
    "    choice = int(input())\n",
    "    if choice == 1:\n",
    "        enque()\n",
    "    elif choice == 2:\n",
    "        dequeue()\n",
    "    elif choice == 3:\n",
    "        display()\n",
    "    elif choice == 4:\n",
    "        break\n",
    "    else:\n",
    "        print(\"print correct operation\")"
   ]
  },
  {
   "cell_type": "code",
   "execution_count": null,
   "id": "a0cd00ee",
   "metadata": {},
   "outputs": [],
   "source": []
  }
 ],
 "metadata": {
  "kernelspec": {
   "display_name": "Python 3 (ipykernel)",
   "language": "python",
   "name": "python3"
  },
  "language_info": {
   "codemirror_mode": {
    "name": "ipython",
    "version": 3
   },
   "file_extension": ".py",
   "mimetype": "text/x-python",
   "name": "python",
   "nbconvert_exporter": "python",
   "pygments_lexer": "ipython3",
   "version": "3.9.13"
  }
 },
 "nbformat": 4,
 "nbformat_minor": 5
}
